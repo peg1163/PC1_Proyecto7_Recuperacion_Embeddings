{
 "cells": [
  {
   "cell_type": "markdown",
   "id": "8b99dfd3",
   "metadata": {},
   "source": [
    "# importaciones "
   ]
  },
  {
   "cell_type": "code",
   "execution_count": null,
   "id": "a1cfa2cb",
   "metadata": {},
   "outputs": [],
   "source": [
    "\n",
    "import os, json, random, math\n",
    "import numpy as np\n",
    "import pandas as pd\n",
    "import matplotlib.pyplot as plt\n",
    "\n",
    "from sentence_transformers import SentenceTransformer\n",
    "from sklearn.feature_extraction.text import TfidfVectorizer\n",
    "from sklearn.preprocessing import normalize\n",
    "from sklearn.decomposition import PCA"
   ]
  },
  {
   "cell_type": "markdown",
   "id": "143b2bf3",
   "metadata": {},
   "source": [
    "# Funciones a usar"
   ]
  },
  {
   "cell_type": "code",
   "execution_count": null,
   "id": "7afbd2f9",
   "metadata": {},
   "outputs": [],
   "source": [
    "\n",
    "def l2_normalize(X: np.ndarray) -> np.ndarray:\n",
    "    n = np.linalg.norm(X, axis=1, keepdims=True)\n",
    "    n[n == 0] = 1.0\n",
    "    return X / n\n",
    "\n",
    "def cosine_sim(A: np.ndarray, B: np.ndarray) -> np.ndarray:\n",
    "    A_ = l2_normalize(A)\n",
    "    B_ = l2_normalize(B)\n",
    "    return A_ @ B_.T"
   ]
  },
  {
   "cell_type": "markdown",
   "id": "a93e1aa0",
   "metadata": {},
   "source": [
    "# Carga de dataset "
   ]
  },
  {
   "cell_type": "code",
   "execution_count": null,
   "id": "0b108351",
   "metadata": {},
   "outputs": [],
   "source": [
    "\n",
    "df = pd.read_csv(\"data/nlp_prueba_cc0c2_large.csv\")\n",
    "df = df.dropna(subset=[\"Texto\"]).reset_index(drop=True)\n",
    "len(df), df.head()\n"
   ]
  }
 ],
 "metadata": {
  "kernelspec": {
   "display_name": "nlp",
   "language": "python",
   "name": "python3"
  },
  "language_info": {
   "name": "python",
   "version": "3.11.13"
  }
 },
 "nbformat": 4,
 "nbformat_minor": 5
}
